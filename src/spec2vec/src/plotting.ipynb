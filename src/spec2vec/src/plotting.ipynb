{
 "cells": [
  {
   "cell_type": "code",
   "execution_count": 31,
   "metadata": {},
   "outputs": [],
   "source": [
    "import matplotlib.pyplot as plt\n",
    "import os\n",
    "from matchms import Spectrum\n",
    "from matchms.similarity import CosineGreedy\n",
    "import numpy as np\n",
    "from numpy.linalg import norm \n",
    "import pandas as pd\n",
    "from tqdm import tqdm\n",
    "from rdkit.Chem import AllChem\n",
    "from rdkit import Chem"
   ]
  },
  {
   "cell_type": "code",
   "execution_count": 2,
   "metadata": {},
   "outputs": [],
   "source": [
    "def load_spectra(path):\n",
    "    return {f.rsplit('.',1)[0]: np.load(os.path.join(path,f)) for f in os.listdir(path) if f.endswith('.npy')}"
   ]
  },
  {
   "cell_type": "code",
   "execution_count": 3,
   "metadata": {},
   "outputs": [],
   "source": [
    "spectral_similiarty_embedding_dict = {}\n",
    "spectral_similiarty_embedding_dict['0.6'] = load_spectra('./spectral_similarity/0.6/embedded_spectra_test/test_rows_spectral/')\n",
    "spectral_similiarty_embedding_dict['0.7'] = load_spectra('./spectral_similarity/0.7/embedded_spectra_test/test_rows_spectral/')\n",
    "spectral_similiarty_embedding_dict['0.8'] = load_spectra('./spectral_similarity/0.8/embedded_spectra_test/test_rows_spectral/')\n",
    "spectral_similiarty_embedding_dict['0.9'] = load_spectra('./spectral_similarity/0.9/embedded_spectra_test/test_rows_spectral/')"
   ]
  },
  {
   "cell_type": "code",
   "execution_count": 4,
   "metadata": {},
   "outputs": [],
   "source": [
    "structural_similiarty_embedding_dict = {}\n",
    "structural_similiarty_embedding_dict['0.6'] = load_spectra('./structural_similarity/0.6/embedded_spectra_test/test_rows_structural/')\n",
    "structural_similiarty_embedding_dict['0.7'] = load_spectra('./structural_similarity/0.7/embedded_spectra_test/test_rows_structural/')\n",
    "structural_similiarty_embedding_dict['0.8'] = load_spectra('./structural_similarity/0.8/embedded_spectra_test/test_rows_structural/')\n",
    "structural_similiarty_embedding_dict['0.9'] = load_spectra('./structural_similarity/0.9/embedded_spectra_test/test_rows_structural/')"
   ]
  },
  {
   "cell_type": "code",
   "execution_count": 34,
   "metadata": {},
   "outputs": [
    {
     "name": "stderr",
     "output_type": "stream",
     "text": [
      "  0%|          | 0/29732 [00:00<?, ?it/s]"
     ]
    },
    {
     "name": "stdout",
     "output_type": "stream",
     "text": [
      "        scan         spectrum_id  collision_energy   Adduct Compound_Source  \\\n",
      "3665  386852  CCMSLIB00004707203               NaN  [M+K]1+        isolated   \n",
      "\n",
      "                                           Compund_Name  Precursor_MZ  \\\n",
      "3665  2-[6-[2-[(2E,6E,10E)-12-[4-[3,4-dihydroxy-6-me...       1185.49   \n",
      "\n",
      "      ExactMass  Charge  Ion_Mode  ... msManufacturer msMassAnalyzer  \\\n",
      "3665        NaN       1  positive  ...            NaN           ftms   \n",
      "\n",
      "     msIonisation msDissociationMethod GNPS_library_membership  \\\n",
      "3665          NaN                  NaN                    MONA   \n",
      "\n",
      "     ppmBetweenExpAndThMass Morgan_2048_2 Morgan_4096_2  Morgan_2048_3  \\\n",
      "3665                    NaN           NaN           NaN            NaN   \n",
      "\n",
      "     Morgan_4096_3  \n",
      "3665           NaN  \n",
      "\n",
      "[1 rows x 23 columns]\n"
     ]
    },
    {
     "name": "stderr",
     "output_type": "stream",
     "text": [
      "\n"
     ]
    },
    {
     "ename": "TypeError",
     "evalue": "No registered converter was able to produce a C++ rvalue of type std::basic_string<wchar_t, std::char_traits<wchar_t>, std::allocator<wchar_t> > from this Python object of type float",
     "output_type": "error",
     "traceback": [
      "\u001b[0;31m---------------------------------------------------------------------------\u001b[0m",
      "\u001b[0;31mTypeError\u001b[0m                                 Traceback (most recent call last)",
      "Cell \u001b[0;32mIn[34], line 26\u001b[0m\n\u001b[1;32m     23\u001b[0m structural_similarity_smiles_dict \u001b[38;5;241m=\u001b[39m {}\n\u001b[1;32m     25\u001b[0m all_keys \u001b[38;5;241m=\u001b[39m \u001b[38;5;28mlist\u001b[39m(\u001b[38;5;28mset\u001b[39m(\u001b[38;5;28mlist\u001b[39m(spectral_similiarty_embedding_dict[\u001b[38;5;124m'\u001b[39m\u001b[38;5;124m0.6\u001b[39m\u001b[38;5;124m'\u001b[39m]\u001b[38;5;241m.\u001b[39mkeys()) \u001b[38;5;241m+\u001b[39m \u001b[38;5;28mlist\u001b[39m(spectral_similiarty_embedding_dict[\u001b[38;5;124m'\u001b[39m\u001b[38;5;124m0.7\u001b[39m\u001b[38;5;124m'\u001b[39m]\u001b[38;5;241m.\u001b[39mkeys()) \u001b[38;5;241m+\u001b[39m \u001b[38;5;28mlist\u001b[39m(spectral_similiarty_embedding_dict[\u001b[38;5;124m'\u001b[39m\u001b[38;5;124m0.8\u001b[39m\u001b[38;5;124m'\u001b[39m]\u001b[38;5;241m.\u001b[39mkeys()) \u001b[38;5;241m+\u001b[39m \u001b[38;5;28mlist\u001b[39m(spectral_similiarty_embedding_dict[\u001b[38;5;124m'\u001b[39m\u001b[38;5;124m0.9\u001b[39m\u001b[38;5;124m'\u001b[39m]\u001b[38;5;241m.\u001b[39mkeys())))\n\u001b[0;32m---> 26\u001b[0m spectral_similarity_smiles_dict \u001b[38;5;241m=\u001b[39m \u001b[43mget_smiles\u001b[49m\u001b[43m(\u001b[49m\u001b[38;5;124;43m'\u001b[39;49m\u001b[38;5;124;43m../../../data/structural_similarity/test_rows_spectral.csv\u001b[39;49m\u001b[38;5;124;43m'\u001b[39;49m\u001b[43m,\u001b[49m\u001b[43m \u001b[49m\u001b[38;5;28;43mlist\u001b[39;49m\u001b[43m(\u001b[49m\u001b[43mall_keys\u001b[49m\u001b[43m)\u001b[49m\u001b[43m)\u001b[49m\n\u001b[1;32m     28\u001b[0m \u001b[38;5;66;03m# spectral_similarity_smiles_dict = {key: }\u001b[39;00m\n",
      "Cell \u001b[0;32mIn[34], line 9\u001b[0m, in \u001b[0;36mget_smiles\u001b[0;34m(path, ids)\u001b[0m\n\u001b[1;32m      7\u001b[0m smiles \u001b[38;5;241m=\u001b[39m row[\u001b[38;5;124m'\u001b[39m\u001b[38;5;124mSmiles\u001b[39m\u001b[38;5;124m'\u001b[39m]\u001b[38;5;241m.\u001b[39mvalues[\u001b[38;5;241m0\u001b[39m]\n\u001b[1;32m      8\u001b[0m \u001b[38;5;28mprint\u001b[39m(row)\n\u001b[0;32m----> 9\u001b[0m mol \u001b[38;5;241m=\u001b[39m \u001b[43mChem\u001b[49m\u001b[38;5;241;43m.\u001b[39;49m\u001b[43mMolFromSmiles\u001b[49m\u001b[43m(\u001b[49m\u001b[43msmiles\u001b[49m\u001b[43m)\u001b[49m\n\u001b[1;32m     10\u001b[0m daylight_2048 \u001b[38;5;241m=\u001b[39m AllChem\u001b[38;5;241m.\u001b[39mGetMorganFingerprintAsBitVect(AllChem\u001b[38;5;241m.\u001b[39mMolFromSmiles(mol), \u001b[38;5;241m2\u001b[39m, nBits\u001b[38;5;241m=\u001b[39m\u001b[38;5;241m2048\u001b[39m)\n\u001b[1;32m     11\u001b[0m daylight_4096 \u001b[38;5;241m=\u001b[39m AllChem\u001b[38;5;241m.\u001b[39mGetMorganFingerprintAsBitVect(AllChem\u001b[38;5;241m.\u001b[39mMolFromSmiles(mol), \u001b[38;5;241m2\u001b[39m, nBits\u001b[38;5;241m=\u001b[39m\u001b[38;5;241m4096\u001b[39m)\n",
      "\u001b[0;31mTypeError\u001b[0m: No registered converter was able to produce a C++ rvalue of type std::basic_string<wchar_t, std::char_traits<wchar_t>, std::allocator<wchar_t> > from this Python object of type float"
     ]
    },
    {
     "ename": "",
     "evalue": "",
     "output_type": "error",
     "traceback": [
      "\u001b[1;31mThe Kernel crashed while executing code in the the current cell or a previous cell. Please review the code in the cell(s) to identify a possible cause of the failure. Click <a href='https://aka.ms/vscodeJupyterKernelCrash'>here</a> for more info. View Jupyter <a href='command:jupyter.viewOutput'>log</a> for further details."
     ]
    }
   ],
   "source": [
    "def get_smiles(path, ids):\n",
    "    df = pd.read_csv(path)\n",
    "    output_dict = {}\n",
    "    for id in tqdm(ids):\n",
    "        row = df.loc[df['spectrum_id'] == id]\n",
    "        assert len(row) == 1\n",
    "        smiles = row['Smiles'].values[0]\n",
    "        print(row)\n",
    "        mol = Chem.MolFromSmiles(smiles)\n",
    "        daylight_2048 = AllChem.GetMorganFingerprintAsBitVect(AllChem.MolFromSmiles(mol), 2, nBits=2048)\n",
    "        daylight_4096 = AllChem.GetMorganFingerprintAsBitVect(AllChem.MolFromSmiles(mol), 2, nBits=4096)\n",
    "        output_dict[id] = {'smiles': row['Smiles'].values[0], \n",
    "                          'Morgan_2048_2': row['Morgan_2048_2'].values[0],\n",
    "                          'Morgan_2048_3': row['Morgan_2048_3'].values[0],\n",
    "                          'Morgan_4096_2': row['Morgan_4096_2'].values[0],\n",
    "                          'Morgan_4096_3': row['Morgan_4096_3'].values[0],\n",
    "                          'Daylight_2048': daylight_2048,\n",
    "                          'Daylight_4096': daylight_4096,}\n",
    "    return output_dict\n",
    "        \n",
    "\n",
    "spectral_similarity_smiles_dict   = {}\n",
    "structural_similarity_smiles_dict = {}\n",
    "\n",
    "all_keys = list(set(list(spectral_similiarty_embedding_dict['0.6'].keys()) + list(spectral_similiarty_embedding_dict['0.7'].keys()) + list(spectral_similiarty_embedding_dict['0.8'].keys()) + list(spectral_similiarty_embedding_dict['0.9'].keys())))\n",
    "spectral_similarity_smiles_dict = get_smiles('../../../data/structural_similarity/test_rows_spectral.csv', list(all_keys))\n",
    "\n",
    "# spectral_similarity_smiles_dict = {key: }"
   ]
  },
  {
   "cell_type": "markdown",
   "metadata": {},
   "source": [
    "# Plot Structural Similarity Against MatchMS Similarity"
   ]
  },
  {
   "cell_type": "code",
   "execution_count": 8,
   "metadata": {},
   "outputs": [],
   "source": [
    "def cos(spec1, spec2):\n",
    "    return np.dot(spec1,spec2)/(norm(spec1)*norm(spec2))"
   ]
  },
  {
   "cell_type": "code",
   "execution_count": 10,
   "metadata": {},
   "outputs": [
    {
     "data": {
      "text/plain": [
       "0.08168274755267121"
      ]
     },
     "execution_count": 10,
     "metadata": {},
     "output_type": "execute_result"
    }
   ],
   "source": [
    "score = cos(structural_similiarty_embedding_dict['0.6']['CCMSLIB00006380444'], structural_similiarty_embedding_dict['0.6']['CCMSLIB00005721329'])\n",
    "score"
   ]
  },
  {
   "cell_type": "code",
   "execution_count": null,
   "metadata": {},
   "outputs": [
    {
     "data": {
      "text/plain": [
       "<function numpy.linalg.norm(x, ord=None, axis=None, keepdims=False)>"
      ]
     },
     "execution_count": 63,
     "metadata": {},
     "output_type": "execute_result"
    }
   ],
   "source": [
    "linalg.norm"
   ]
  }
 ],
 "metadata": {
  "kernelspec": {
   "display_name": "Python 3",
   "language": "python",
   "name": "python3"
  },
  "language_info": {
   "codemirror_mode": {
    "name": "ipython",
    "version": 3
   },
   "file_extension": ".py",
   "mimetype": "text/x-python",
   "name": "python",
   "nbconvert_exporter": "python",
   "pygments_lexer": "ipython3",
   "version": "3.10.0"
  }
 },
 "nbformat": 4,
 "nbformat_minor": 2
}
