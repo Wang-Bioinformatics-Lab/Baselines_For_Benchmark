{
 "cells": [
  {
   "cell_type": "code",
   "execution_count": 42,
   "metadata": {},
   "outputs": [],
   "source": [
    "import pandas as pd\n",
    "from tqdm import tqdm"
   ]
  },
  {
   "cell_type": "code",
   "execution_count": 9,
   "metadata": {},
   "outputs": [],
   "source": [
    "threshold = '0.6'\n",
    "dataset = 'structural_similarity'\n",
    "\n",
    "test = pd.read_csv(f'./{dataset}/test_rows_structural.csv', index_col=0)\n",
    "train = pd.read_csv(f'./{dataset}/train_rows_structural_{threshold}.csv', index_col=0)"
   ]
  },
  {
   "cell_type": "code",
   "execution_count": 10,
   "metadata": {},
   "outputs": [
    {
     "data": {
      "text/html": [
       "<div>\n",
       "<style scoped>\n",
       "    .dataframe tbody tr th:only-of-type {\n",
       "        vertical-align: middle;\n",
       "    }\n",
       "\n",
       "    .dataframe tbody tr th {\n",
       "        vertical-align: top;\n",
       "    }\n",
       "\n",
       "    .dataframe thead th {\n",
       "        text-align: right;\n",
       "    }\n",
       "</style>\n",
       "<table border=\"1\" class=\"dataframe\">\n",
       "  <thead>\n",
       "    <tr style=\"text-align: right;\">\n",
       "      <th></th>\n",
       "      <th>scan</th>\n",
       "      <th>spectrum_id</th>\n",
       "      <th>collision_energy</th>\n",
       "      <th>Adduct</th>\n",
       "      <th>Compound_Source</th>\n",
       "      <th>Compund_Name</th>\n",
       "      <th>Precursor_MZ</th>\n",
       "      <th>ExactMass</th>\n",
       "      <th>Charge</th>\n",
       "      <th>Ion_Mode</th>\n",
       "      <th>...</th>\n",
       "      <th>msManufacturer</th>\n",
       "      <th>msMassAnalyzer</th>\n",
       "      <th>msIonisation</th>\n",
       "      <th>msDissociationMethod</th>\n",
       "      <th>GNPS_library_membership</th>\n",
       "      <th>ppmBetweenExpAndThMass</th>\n",
       "      <th>Morgan_2048_2</th>\n",
       "      <th>Morgan_4096_2</th>\n",
       "      <th>Morgan_2048_3</th>\n",
       "      <th>Morgan_4096_3</th>\n",
       "    </tr>\n",
       "  </thead>\n",
       "  <tbody>\n",
       "  </tbody>\n",
       "</table>\n",
       "<p>0 rows × 23 columns</p>\n",
       "</div>"
      ],
      "text/plain": [
       "Empty DataFrame\n",
       "Columns: [scan, spectrum_id, collision_energy, Adduct, Compound_Source, Compund_Name, Precursor_MZ, ExactMass, Charge, Ion_Mode, Smiles, INCHI, InChIKey_smiles, msManufacturer, msMassAnalyzer, msIonisation, msDissociationMethod, GNPS_library_membership, ppmBetweenExpAndThMass, Morgan_2048_2, Morgan_4096_2, Morgan_2048_3, Morgan_4096_3]\n",
       "Index: []\n",
       "\n",
       "[0 rows x 23 columns]"
      ]
     },
     "execution_count": 10,
     "metadata": {},
     "output_type": "execute_result"
    }
   ],
   "source": [
    "train.loc[train.spectrum_id.isin(test.spectrum_id)]"
   ]
  },
  {
   "cell_type": "code",
   "execution_count": 11,
   "metadata": {},
   "outputs": [
    {
     "data": {
      "text/html": [
       "<div>\n",
       "<style scoped>\n",
       "    .dataframe tbody tr th:only-of-type {\n",
       "        vertical-align: middle;\n",
       "    }\n",
       "\n",
       "    .dataframe tbody tr th {\n",
       "        vertical-align: top;\n",
       "    }\n",
       "\n",
       "    .dataframe thead th {\n",
       "        text-align: right;\n",
       "    }\n",
       "</style>\n",
       "<table border=\"1\" class=\"dataframe\">\n",
       "  <thead>\n",
       "    <tr style=\"text-align: right;\">\n",
       "      <th></th>\n",
       "      <th>scan</th>\n",
       "      <th>spectrum_id</th>\n",
       "      <th>collision_energy</th>\n",
       "      <th>Adduct</th>\n",
       "      <th>Compound_Source</th>\n",
       "      <th>Compund_Name</th>\n",
       "      <th>Precursor_MZ</th>\n",
       "      <th>ExactMass</th>\n",
       "      <th>Charge</th>\n",
       "      <th>Ion_Mode</th>\n",
       "      <th>...</th>\n",
       "      <th>msManufacturer</th>\n",
       "      <th>msMassAnalyzer</th>\n",
       "      <th>msIonisation</th>\n",
       "      <th>msDissociationMethod</th>\n",
       "      <th>GNPS_library_membership</th>\n",
       "      <th>ppmBetweenExpAndThMass</th>\n",
       "      <th>Morgan_2048_2</th>\n",
       "      <th>Morgan_4096_2</th>\n",
       "      <th>Morgan_2048_3</th>\n",
       "      <th>Morgan_4096_3</th>\n",
       "    </tr>\n",
       "  </thead>\n",
       "  <tbody>\n",
       "  </tbody>\n",
       "</table>\n",
       "<p>0 rows × 23 columns</p>\n",
       "</div>"
      ],
      "text/plain": [
       "Empty DataFrame\n",
       "Columns: [scan, spectrum_id, collision_energy, Adduct, Compound_Source, Compund_Name, Precursor_MZ, ExactMass, Charge, Ion_Mode, Smiles, INCHI, InChIKey_smiles, msManufacturer, msMassAnalyzer, msIonisation, msDissociationMethod, GNPS_library_membership, ppmBetweenExpAndThMass, Morgan_2048_2, Morgan_4096_2, Morgan_2048_3, Morgan_4096_3]\n",
       "Index: []\n",
       "\n",
       "[0 rows x 23 columns]"
      ]
     },
     "execution_count": 11,
     "metadata": {},
     "output_type": "execute_result"
    }
   ],
   "source": [
    "test.loc[test.spectrum_id.isin(train.spectrum_id)]"
   ]
  },
  {
   "cell_type": "code",
   "execution_count": 12,
   "metadata": {},
   "outputs": [
    {
     "data": {
      "text/plain": [
       "Index(['scan', 'spectrum_id', 'collision_energy', 'Adduct', 'Compound_Source',\n",
       "       'Compund_Name', 'Precursor_MZ', 'ExactMass', 'Charge', 'Ion_Mode',\n",
       "       'Smiles', 'INCHI', 'InChIKey_smiles', 'msManufacturer',\n",
       "       'msMassAnalyzer', 'msIonisation', 'msDissociationMethod',\n",
       "       'GNPS_library_membership', 'ppmBetweenExpAndThMass', 'Morgan_2048_2',\n",
       "       'Morgan_4096_2', 'Morgan_2048_3', 'Morgan_4096_3'],\n",
       "      dtype='object')"
      ]
     },
     "execution_count": 12,
     "metadata": {},
     "output_type": "execute_result"
    }
   ],
   "source": [
    "train.columns"
   ]
  },
  {
   "cell_type": "code",
   "execution_count": 29,
   "metadata": {},
   "outputs": [],
   "source": [
    "# Check for overlap using Morgan Fingerprints\n",
    "from rdkit.Chem import AllChem\n",
    "from rdkit.DataStructs.cDataStructs import ExplicitBitVect\n",
    "from rdkit.DataStructs.cDataStructs import BulkTanimotoSimilarity, CreateFromBitString\n",
    "\n",
    "from rdkit import DataStructs\n",
    "\n",
    "train.Morgan_2048_2 = train.Morgan_2048_2.apply(lambda x:  CreateFromBitString(''.join(str(y) for y in x)))\n",
    "train.Morgan_2048_3 = train.Morgan_2048_3.apply(lambda x:  CreateFromBitString(''.join(str(y) for y in x)))\n",
    "train.Morgan_4096_2 = train.Morgan_4096_2.apply(lambda x:  CreateFromBitString(''.join(str(y) for y in x)))\n",
    "train.Morgan_4096_3 = train.Morgan_4096_3.apply(lambda x:  CreateFromBitString(''.join(str(y) for y in x)))\n",
    "\n",
    "test.Morgan_2048_2 = test.Morgan_2048_2.apply(lambda x:  CreateFromBitString(''.join(str(y) for y in x)))\n",
    "test.Morgan_2048_3 = test.Morgan_2048_3.apply(lambda x:  CreateFromBitString(''.join(str(y) for y in x)))\n",
    "test.Morgan_4096_2 = test.Morgan_4096_2.apply(lambda x:  CreateFromBitString(''.join(str(y) for y in x)))\n",
    "test.Morgan_4096_3 = test.Morgan_4096_3.apply(lambda x:  CreateFromBitString(''.join(str(y) for y in x)))"
   ]
  },
  {
   "cell_type": "code",
   "execution_count": 43,
   "metadata": {},
   "outputs": [
    {
     "name": "stderr",
     "output_type": "stream",
     "text": [
      "100%|██████████| 122592/122592 [18:25<00:00, 110.90it/s]\n"
     ]
    }
   ],
   "source": [
    "sims = []\n",
    "train_fps = train.Morgan_2048_2\n",
    "test_fps = list(test.Morgan_2048_2)\n",
    "\n",
    "for idx in tqdm(range(len(train))):\n",
    "    sims.extend(DataStructs.BulkTanimotoSimilarity(train_fps.iloc[idx], test_fps))"
   ]
  },
  {
   "cell_type": "code",
   "execution_count": 44,
   "metadata": {},
   "outputs": [
    {
     "data": {
      "text/plain": [
       "count    5.351018e+09\n",
       "mean     1.054339e-01\n",
       "std      6.783394e-02\n",
       "min      0.000000e+00\n",
       "25%      6.578947e-02\n",
       "50%      9.278351e-02\n",
       "75%      1.267606e-01\n",
       "max      1.000000e+00\n",
       "dtype: float64"
      ]
     },
     "execution_count": 44,
     "metadata": {},
     "output_type": "execute_result"
    }
   ],
   "source": [
    "pd.Series(sims).describe()"
   ]
  }
 ],
 "metadata": {
  "kernelspec": {
   "display_name": "Python 3",
   "language": "python",
   "name": "python3"
  },
  "language_info": {
   "codemirror_mode": {
    "name": "ipython",
    "version": 3
   },
   "file_extension": ".py",
   "mimetype": "text/x-python",
   "name": "python",
   "nbconvert_exporter": "python",
   "pygments_lexer": "ipython3",
   "version": "3.10.0"
  }
 },
 "nbformat": 4,
 "nbformat_minor": 2
}
